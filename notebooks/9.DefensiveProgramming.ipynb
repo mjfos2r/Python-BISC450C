{
 "cells": [
  {
   "cell_type": "code",
   "execution_count": null,
   "metadata": {},
   "outputs": [],
   "source": [
    "#########################\n",
    "# Defensive Programming #\n",
    "#########################"
   ]
  },
  {
   "cell_type": "code",
   "execution_count": 12,
   "metadata": {},
   "outputs": [],
   "source": [
    "#numbers = [1.5, 2.3, 0.7, -0.001, 4.4]\n",
    "#total = 0.0\n",
    "#for num in numbers:\n",
    "#    assert num > 0.0, 'data should only contain positive values'\n",
    "#    total += num\n",
    "#print('total is:', total)\n",
    "# gives this error:\n",
    "# AssertionError: data should only contain positive values"
   ]
  },
  {
   "cell_type": "code",
   "execution_count": 19,
   "metadata": {},
   "outputs": [],
   "source": [
    "def normalize_rectangle(rect):\n",
    "    \"\"\" Normalizes a rectangle so that it is at the origin and 1.0 units long on its longest axis.\n",
    "    input should be of the format (x0, y0, x1, y1)\n",
    "    (x0, y0) and (x1, y1) define the lower left and upper right corners of the rectangle respectively\"\"\"\n",
    "    assert len(rect) == 4, 'rectangles must contain 4 coordinates'\n",
    "    x0, y0, x1, y1 = rect\n",
    "    assert x0 < x1, 'invalid X coordinates'\n",
    "    assert y0 < y1, 'invalid Y coordinates'\n",
    "    \n",
    "    dx = x1 - x0\n",
    "    dy = y1 - y0\n",
    "    if dx > dy:\n",
    "        scaled = dy / dx\n",
    "        upper_x, upper_y = 1.0, scaled\n",
    "    else:\n",
    "        scaled = dx / dy\n",
    "        upper_x, upper_y = scaled, 1.0\n",
    "        \n",
    "    assert 0 < upper_x <= 1.0, 'calculated upper x coordinate invalid'\n",
    "    assert 0 < upper_y <= 1.0, 'calculated upper y coordinate invalid'\n",
    "    \n",
    "    return (0, 0, upper_x, upper_y)"
   ]
  },
  {
   "cell_type": "code",
   "execution_count": 9,
   "metadata": {},
   "outputs": [],
   "source": [
    "#print(normalize_rectangle( (0.0, 1.0, 2.0) ))\n",
    "# gives error:\n",
    "# AssertionError: rectangles must contain 4 coordinates"
   ]
  },
  {
   "cell_type": "code",
   "execution_count": 11,
   "metadata": {},
   "outputs": [],
   "source": [
    "#print(normalize_rectangle( (4.0, 2.0, 1.0, 5.0) ))\n",
    "# gives error:\n",
    "# AssertionError: invalid X coordinates"
   ]
  },
  {
   "cell_type": "code",
   "execution_count": 21,
   "metadata": {},
   "outputs": [
    {
     "name": "stdout",
     "output_type": "stream",
     "text": [
      "(0, 0, 1.0, 1.0)\n",
      "(0, 0, 0.2, 1.0)\n"
     ]
    }
   ],
   "source": [
    "# rearranging the previous coordinates to work\n",
    "print(normalize_rectangle( (1.0, 2.0, 4.0, 5.0) ))\n",
    "# changing the coordinates to be different, but work\n",
    "print(normalize_rectangle( (0.0, 0.0, 1.0, 5.0) ))"
   ]
  },
  {
   "cell_type": "code",
   "execution_count": 20,
   "metadata": {},
   "outputs": [
    {
     "name": "stdout",
     "output_type": "stream",
     "text": [
      "(0, 0, 1.0, 0.2)\n"
     ]
    }
   ],
   "source": [
    "#print(normalize_rectangle( (0.0, 0.0, 5.0, 1.0)))\n",
    "# gives error:\n",
    "# AssertionError: calculated upper y coordinate invalid\n",
    "# rectangle is wider than tall\n",
    "\n",
    "# changed ln14 to dy/dx from dx/dy\n",
    "# try again\n",
    "print(normalize_rectangle( (0.0, 0.0, 5.0, 1.0)))\n",
    "#works now."
   ]
  },
  {
   "cell_type": "code",
   "execution_count": 22,
   "metadata": {},
   "outputs": [],
   "source": [
    "# Assertions are very very very useful. \n",
    "# I could have used this in so many things I've done.\n",
    "# will be using it from now on."
   ]
  },
  {
   "cell_type": "code",
   "execution_count": 23,
   "metadata": {},
   "outputs": [],
   "source": [
    "##############\n",
    "# Debugging! #\n",
    "##############"
   ]
  },
  {
   "cell_type": "code",
   "execution_count": null,
   "metadata": {},
   "outputs": [],
   "source": []
  }
 ],
 "metadata": {
  "kernelspec": {
   "display_name": "Python 3",
   "language": "python",
   "name": "python3"
  },
  "language_info": {
   "codemirror_mode": {
    "name": "ipython",
    "version": 3
   },
   "file_extension": ".py",
   "mimetype": "text/x-python",
   "name": "python",
   "nbconvert_exporter": "python",
   "pygments_lexer": "ipython3",
   "version": "3.7.4"
  }
 },
 "nbformat": 4,
 "nbformat_minor": 4
}
