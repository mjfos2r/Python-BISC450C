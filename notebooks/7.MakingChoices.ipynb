{
 "cells": [
  {
   "cell_type": "code",
   "execution_count": 1,
   "metadata": {},
   "outputs": [],
   "source": [
    "##################\n",
    "# Making Choices #\n",
    "##################"
   ]
  },
  {
   "cell_type": "code",
   "execution_count": 2,
   "metadata": {},
   "outputs": [],
   "source": [
    "# if, then, else"
   ]
  },
  {
   "cell_type": "code",
   "execution_count": 3,
   "metadata": {},
   "outputs": [
    {
     "name": "stdout",
     "output_type": "stream",
     "text": [
      "not greater\n",
      "done\n"
     ]
    }
   ],
   "source": [
    "num = 37\n",
    "if num > 100:\n",
    "    print('greater')\n",
    "else:\n",
    "    print('not greater')\n",
    "print('done')"
   ]
  },
  {
   "cell_type": "code",
   "execution_count": 4,
   "metadata": {},
   "outputs": [],
   "source": [
    "# refer to t/f flowchart"
   ]
  },
  {
   "cell_type": "code",
   "execution_count": 5,
   "metadata": {},
   "outputs": [
    {
     "name": "stdout",
     "output_type": "stream",
     "text": [
      "before conditional.....\n",
      "..... after conditional\n"
     ]
    }
   ],
   "source": [
    "num = 53\n",
    "print('before conditional.....')\n",
    "if num > 100:\n",
    "    print(num, 'is greater than 100')\n",
    "print('..... after conditional')"
   ]
  },
  {
   "cell_type": "code",
   "execution_count": 6,
   "metadata": {},
   "outputs": [],
   "source": [
    "# no print since num !> 100\n",
    "# else not required"
   ]
  },
  {
   "cell_type": "code",
   "execution_count": 10,
   "metadata": {},
   "outputs": [
    {
     "name": "stdout",
     "output_type": "stream",
     "text": [
      "14 is positive\n"
     ]
    }
   ],
   "source": [
    "#now lets do elseif\n",
    "num = 14\n",
    "if num > 0:\n",
    "    print(num, 'is positive')\n",
    "elif num == 0:\n",
    "    print(num, 'is zero')\n",
    "else:\n",
    "    print(num, 'is negative')"
   ]
  },
  {
   "cell_type": "code",
   "execution_count": 11,
   "metadata": {},
   "outputs": [
    {
     "name": "stdout",
     "output_type": "stream",
     "text": [
      "at least one part is false\n"
     ]
    }
   ],
   "source": [
    "if (1 > 0) and (-1 >= 0):\n",
    "    print('both parts are true')\n",
    "else: \n",
    "    print('at least one part is false')"
   ]
  },
  {
   "cell_type": "code",
   "execution_count": 12,
   "metadata": {},
   "outputs": [],
   "source": [
    "# 1 > 0 but -1 !>= 0"
   ]
  },
  {
   "cell_type": "code",
   "execution_count": 14,
   "metadata": {},
   "outputs": [
    {
     "name": "stdout",
     "output_type": "stream",
     "text": [
      "at least one part is true\n"
     ]
    }
   ],
   "source": [
    "if (1 > 0) or (-1 >= 0):\n",
    "    print('at least one part is true')\n",
    "else:\n",
    "    print('both of these are false')"
   ]
  },
  {
   "cell_type": "code",
   "execution_count": 15,
   "metadata": {},
   "outputs": [],
   "source": [
    "# Moving into data folder in swc-python, I refuse, I am just going to path into it."
   ]
  },
  {
   "cell_type": "code",
   "execution_count": 19,
   "metadata": {},
   "outputs": [],
   "source": [
    "# Assuming inside swc-python/data\n",
    "# just gonna set a variable to the correct path and add it to whatever is importing stuff in there\n",
    "path2data= '../swc-python/data/'\n",
    "\n",
    "import numpy"
   ]
  },
  {
   "cell_type": "code",
   "execution_count": 45,
   "metadata": {},
   "outputs": [],
   "source": [
    "data = numpy.loadtxt(fname=path2data+'inflammation-01.csv', delimiter=',')"
   ]
  },
  {
   "cell_type": "code",
   "execution_count": 46,
   "metadata": {},
   "outputs": [],
   "source": [
    "max_inflammation_0 = numpy.amax(data,axis = 0)[0]"
   ]
  },
  {
   "cell_type": "code",
   "execution_count": 47,
   "metadata": {},
   "outputs": [
    {
     "name": "stdout",
     "output_type": "stream",
     "text": [
      "Suspicious looking maxima!!\n"
     ]
    }
   ],
   "source": [
    "max_inflammation_20 = numpy.amax(data, axis = 0)[20]\n",
    "if max_inflammation_0 == 0 and max_inflammation_20 == 20:\n",
    "    print('Suspicious looking maxima!!')"
   ]
  },
  {
   "cell_type": "code",
   "execution_count": 48,
   "metadata": {},
   "outputs": [
    {
     "name": "stdout",
     "output_type": "stream",
     "text": [
      "Suspicious looking maxima!!\n"
     ]
    }
   ],
   "source": [
    "if max_inflammation_0 == 0 and max_inflammation_20 == 20:\n",
    "    print('Suspicious looking maxima!!')\n",
    "elif numpy.sum(numpy.amin(data, axis = 0)) == 0:\n",
    "    print('minima add up to zero')\n",
    "else:\n",
    "    print('seems OK')"
   ]
  },
  {
   "cell_type": "code",
   "execution_count": 54,
   "metadata": {},
   "outputs": [],
   "source": [
    "data = numpy.loadtxt(fname = path2data+'inflammation-03.csv', delimiter=',')\n",
    "\n",
    "max_inflammation_0 = numpy.amax(data, axis = 0)[0]\n",
    "max_inflammation_20 = numpy.amax(data, axis = 0)[20]"
   ]
  },
  {
   "cell_type": "code",
   "execution_count": 56,
   "metadata": {},
   "outputs": [
    {
     "name": "stdout",
     "output_type": "stream",
     "text": [
      "minima add up to zero! -> HEALTHY PARTICIPANT ALERT\n"
     ]
    }
   ],
   "source": [
    "if max_inflammation_0 == 0 and max_inflammation_20 == 20:\n",
    "    print('suspicious looking maxima!')\n",
    "elif numpy.sum(numpy.amin(data, axis = 0)) == 0:\n",
    "    print('minima add up to zero! -> HEALTHY PARTICIPANT ALERT')\n",
    "else:\n",
    "    print('Seems OK!')"
   ]
  },
  {
   "cell_type": "code",
   "execution_count": null,
   "metadata": {},
   "outputs": [],
   "source": []
  }
 ],
 "metadata": {
  "kernelspec": {
   "display_name": "Python 3",
   "language": "python",
   "name": "python3"
  },
  "language_info": {
   "codemirror_mode": {
    "name": "ipython",
    "version": 3
   },
   "file_extension": ".py",
   "mimetype": "text/x-python",
   "name": "python",
   "nbconvert_exporter": "python",
   "pygments_lexer": "ipython3",
   "version": "3.7.4"
  }
 },
 "nbformat": 4,
 "nbformat_minor": 4
}
