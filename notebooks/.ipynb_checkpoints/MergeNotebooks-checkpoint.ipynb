{
 "cells": [
  {
   "cell_type": "code",
   "execution_count": null,
   "id": "4af8fa69",
   "metadata": {},
   "outputs": [],
   "source": [
    "#!pip install nbmerge"
   ]
  },
  {
   "cell_type": "code",
   "execution_count": 9,
   "id": "ff13bbbb",
   "metadata": {
    "scrolled": true
   },
   "outputs": [],
   "source": [
    "import nbmerge\n",
    "\n",
    "!nbmerge --recursive *.*.ipynb -o final_project.ipynb"
   ]
  },
  {
   "cell_type": "code",
   "execution_count": 46,
   "id": "412ffd69",
   "metadata": {},
   "outputs": [
    {
     "name": "stdout",
     "output_type": "stream",
     "text": [
      "Help on package nbmerge:\n",
      "\n",
      "NAME\n",
      "    nbmerge - A tool to merge / concatenate Jupyter (IPython) notebooks <https://github.com/jbn/nbmerge>\n",
      "\n",
      "PACKAGE CONTENTS\n",
      "\n",
      "\n",
      "FUNCTIONS\n",
      "    annotate_source_path(notebook, base_dir, nb_path, boundary_key)\n",
      "        Add the notebook's relative path to the cell metadata.\n",
      "        \n",
      "        :param notebook: the parsed notebook object\n",
      "        :param base_dir: the base directory for this merge\n",
      "        :param nb_path: the file path to the notebook\n",
      "        :param boundary_key: the target key in the meatadata dictionary\n",
      "    \n",
      "    main(args=None)\n",
      "    \n",
      "    merge_notebooks(base_dir, file_paths, verbose=False, boundary_key=None)\n",
      "        Merge the given notebooks into one notebook.\n",
      "        \n",
      "        This function aggregates metadata in reverse order relative to the\n",
      "        ``file_paths``. It does not do so recursively. Concretely, the first\n",
      "        notebook will overwrite any keys in the metadata for notebooks 2 and\n",
      "        on; the second notebook will overwrite any keys in the metadata for\n",
      "        notebooks 3 and on; and so forth. If the second notebook has a key\n",
      "        path of metadata.ns.x which does not exist in the first notebook,\n",
      "        but the first notebook has a key path of metadata.ns.y, the second\n",
      "        data's entry is overwritten. It does not recursively descend into\n",
      "        the dictionaries.\n",
      "        \n",
      "        :param base_dir: the base directory for recursion and relative path\n",
      "            calculation\n",
      "        :param file_paths: the ordered file paths to the notebooks for\n",
      "            concatenation\n",
      "        :param boundary_key: the key in the first cells metadata where the\n",
      "            source file_path goes\n",
      "        :param verbose: if True, print message for each notebook when processing\n",
      "        :return: the merged notebook\n",
      "    \n",
      "    parse_plan(args=None, base_dir=None)\n",
      "        Parse the command line arguments and produce an execution plan.\n",
      "    \n",
      "    recursive_find(base_dir, ignore_underscored, predicate_re)\n",
      "        Find notebooks relative to the base dir which match the filtering criteria.\n",
      "        \n",
      "        :param base_dir: the base directory for the search\n",
      "        :param ignore_underscored: filter out all notebooks which begin with\n",
      "            an underscore prefix, irrespective of the predicate regexp\n",
      "        :param predicate_re: a filter for file name acceptance\n",
      "        :return: lexicographically ordered list of notebook file paths\n",
      "\n",
      "DATA\n",
      "    __copyright__ = 'Copyright (c) 2017 John Bjorn Nelson'\n",
      "    __description__ = 'A tool to merge / concatenate Jupyter (IPython) not...\n",
      "    __email__ = 'jbn@abreka.com'\n",
      "    __license__ = 'MIT'\n",
      "    __title__ = 'nbmerge'\n",
      "    __uri__ = 'https://github.com/jbn/nbmerge'\n",
      "\n",
      "VERSION\n",
      "    0.0.4\n",
      "\n",
      "AUTHOR\n",
      "    John Bjorn Nelson\n",
      "\n",
      "FILE\n",
      "    /Users/michaelfoster/miniforge3/envs/jupyter/lib/python3.11/site-packages/nbmerge/__init__.py\n",
      "\n",
      "\n"
     ]
    }
   ],
   "source": [
    "help(nbmerge)"
   ]
  },
  {
   "cell_type": "code",
   "execution_count": null,
   "id": "1ef4fb84",
   "metadata": {},
   "outputs": [],
   "source": []
  }
 ],
 "metadata": {
  "kernelspec": {
   "display_name": "Python 3 (ipykernel)",
   "language": "python",
   "name": "python3"
  },
  "language_info": {
   "codemirror_mode": {
    "name": "ipython",
    "version": 3
   },
   "file_extension": ".py",
   "mimetype": "text/x-python",
   "name": "python",
   "nbconvert_exporter": "python",
   "pygments_lexer": "ipython3",
   "version": "3.11.3"
  }
 },
 "nbformat": 4,
 "nbformat_minor": 5
}
