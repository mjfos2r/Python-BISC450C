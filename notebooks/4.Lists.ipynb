{
 "cells": [
  {
   "cell_type": "code",
   "execution_count": 1,
   "metadata": {},
   "outputs": [
    {
     "name": "stdout",
     "output_type": "stream",
     "text": [
      "odds are: [1, 3, 5, 7]\n"
     ]
    }
   ],
   "source": [
    "odds = [1,3,5,7]\n",
    "print(\"odds are:\", odds)"
   ]
  },
  {
   "cell_type": "code",
   "execution_count": 4,
   "metadata": {},
   "outputs": [
    {
     "name": "stdout",
     "output_type": "stream",
     "text": [
      "first element: 1\n",
      "last element: 7\n",
      "\"-1\" element: 7\n",
      "\"-2\" element: 5\n",
      "\"-3\" element: 3\n"
     ]
    }
   ],
   "source": [
    "print('first element:', odds[0])\n",
    "print('last element:', odds[3])\n",
    "# Can count backwards in lists! \n",
    "print('\"-1\" element:', odds [-1])\n",
    "print('\"-2\" element:', odds [-2])\n",
    "print('\"-3\" element:', odds [-3])"
   ]
  },
  {
   "cell_type": "code",
   "execution_count": 6,
   "metadata": {},
   "outputs": [
    {
     "name": "stdout",
     "output_type": "stream",
     "text": [
      "names is originally: ['Curie', 'Darwing', 'Turing']\n",
      "Final value of names: ['Curie', 'Darwin', 'Turing']\n"
     ]
    }
   ],
   "source": [
    "# we can change lists, we can't change strings\n",
    "names = ['Curie', 'Darwing', 'Turing'] # Typo in Darwin's name\n",
    "print('names is originally:', names)\n",
    "names[1] = 'Darwin' # correct the name\n",
    "print('Final value of names:', names)"
   ]
  },
  {
   "cell_type": "code",
   "execution_count": 8,
   "metadata": {},
   "outputs": [],
   "source": [
    "#name = 'Darwin'\n",
    "#name[0] = 'd'\n",
    "#gives the following:\n",
    "#TypeError: 'str' object does not support item assignment"
   ]
  },
  {
   "cell_type": "code",
   "execution_count": 9,
   "metadata": {},
   "outputs": [
    {
     "name": "stdout",
     "output_type": "stream",
     "text": [
      "odds after adding a value: [1, 3, 5, 7, 11]\n"
     ]
    }
   ],
   "source": [
    "odds.append(11)\n",
    "print('odds after adding a value:', odds)"
   ]
  },
  {
   "cell_type": "code",
   "execution_count": 10,
   "metadata": {},
   "outputs": [
    {
     "name": "stdout",
     "output_type": "stream",
     "text": [
      "odds after removing the first element: [3, 5, 7, 11]\n",
      "removed element: 1\n"
     ]
    }
   ],
   "source": [
    "# Push = add to list\n",
    "# pop = remove from list\n",
    "# origin is from the early early days of computing\n",
    "removed_element = odds.pop(0)\n",
    "print('odds after removing the first element:', odds)\n",
    "print('removed element:', removed_element)"
   ]
  },
  {
   "cell_type": "code",
   "execution_count": 11,
   "metadata": {},
   "outputs": [
    {
     "name": "stdout",
     "output_type": "stream",
     "text": [
      "odds after reversing: [11, 7, 5, 3]\n"
     ]
    }
   ],
   "source": [
    "odds.reverse()\n",
    "print('odds after reversing:', odds)"
   ]
  },
  {
   "cell_type": "code",
   "execution_count": 12,
   "metadata": {},
   "outputs": [
    {
     "name": "stdout",
     "output_type": "stream",
     "text": [
      "primes: [3, 5, 7, 2]\n",
      "odds: [3, 5, 7, 2]\n"
     ]
    }
   ],
   "source": [
    "odds = [3,5,7]\n",
    "#primes and odds are the same\n",
    "primes = odds\n",
    "primes.append(2)\n",
    "#output shows that they are treated the same\n",
    "print('primes:', primes)\n",
    "print('odds:', odds)"
   ]
  },
  {
   "cell_type": "code",
   "execution_count": 13,
   "metadata": {},
   "outputs": [
    {
     "name": "stdout",
     "output_type": "stream",
     "text": [
      "primes: [3, 5, 7, 2]\n",
      "odds: [3, 5, 7]\n"
     ]
    }
   ],
   "source": [
    "odds = [3,5,7]\n",
    "#primes is a copy of odds\n",
    "primes = list(odds)\n",
    "primes.append(2)\n",
    "#output shows that they are not treated as the same object\n",
    "print('primes:', primes)\n",
    "print('odds:', odds)"
   ]
  },
  {
   "cell_type": "code",
   "execution_count": 16,
   "metadata": {},
   "outputs": [
    {
     "name": "stdout",
     "output_type": "stream",
     "text": [
      "group: Drosophila\n",
      "species: melanogaster\n",
      "autosomes: ['2', '3', '4']\n",
      "last: 4\n"
     ]
    }
   ],
   "source": [
    "binomial_name = \"Drosophila melanogaster\"\n",
    "group = binomial_name[0:10]\n",
    "print('group:', group)\n",
    "\n",
    "species = binomial_name[11:23]\n",
    "print('species:', species)\n",
    "\n",
    "chromosomes = ['X', 'Y', '2', '3', '4']\n",
    "autosomes = chromosomes[2:5]\n",
    "print('autosomes:', autosomes)\n",
    "\n",
    "last = chromosomes[-1]\n",
    "print('last:', last)"
   ]
  },
  {
   "cell_type": "code",
   "execution_count": 17,
   "metadata": {},
   "outputs": [
    {
     "name": "stdout",
     "output_type": "stream",
     "text": [
      "using 0 to begin range: Sunday\n",
      "omitting beginning index: Sunday\n"
     ]
    }
   ],
   "source": [
    "date = 'Sunday 14 May 2023'\n",
    "day = date[0:6]\n",
    "print('using 0 to begin range:', day)\n",
    "day = date[:6]\n",
    "print('omitting beginning index:', day)"
   ]
  },
  {
   "cell_type": "code",
   "execution_count": 20,
   "metadata": {},
   "outputs": [
    {
     "name": "stdout",
     "output_type": "stream",
     "text": [
      "with known last positions: ['Sep', 'Oct', 'Nov', 'Dec']\n",
      "using len() to get last entry: ['Sep', 'Oct', 'Nov', 'Dec']\n",
      "omitting ending index: ['Sep', 'Oct', 'Nov', 'Dec']\n"
     ]
    }
   ],
   "source": [
    "months = ['Jan', 'Feb', 'Mar', 'Apr', 'May', 'Jun', 'Jul', 'Aug', 'Sep', 'Oct', 'Nov', 'Dec']\n",
    "sond = months[8:12]\n",
    "print('with known last positions:', sond)\n",
    "\n",
    "sond = months[8:len(months)]\n",
    "print('using len() to get last entry:', sond)\n",
    "\n",
    "sond = months[8:]\n",
    "print('omitting ending index:', sond)"
   ]
  },
  {
   "cell_type": "code",
   "execution_count": null,
   "metadata": {},
   "outputs": [],
   "source": []
  }
 ],
 "metadata": {
  "kernelspec": {
   "display_name": "Python 3",
   "language": "python",
   "name": "python3"
  },
  "language_info": {
   "codemirror_mode": {
    "name": "ipython",
    "version": 3
   },
   "file_extension": ".py",
   "mimetype": "text/x-python",
   "name": "python",
   "nbconvert_exporter": "python",
   "pygments_lexer": "ipython3",
   "version": "3.7.4"
  }
 },
 "nbformat": 4,
 "nbformat_minor": 4
}
